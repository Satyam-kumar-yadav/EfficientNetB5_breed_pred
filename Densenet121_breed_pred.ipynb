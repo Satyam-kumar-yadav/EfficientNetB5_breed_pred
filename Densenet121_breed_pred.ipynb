{
  "nbformat": 4,
  "nbformat_minor": 0,
  "metadata": {
    "colab": {
      "name": "Efficient_net_B0.ipynb",
      "provenance": [],
      "authorship_tag": "ABX9TyMrECgXtIlTKWUnanoTiC6K",
      "include_colab_link": true
    },
    "kernelspec": {
      "name": "python3",
      "display_name": "Python 3"
    },
    "accelerator": "GPU"
  },
  "cells": [
    {
      "cell_type": "markdown",
      "metadata": {
        "id": "view-in-github",
        "colab_type": "text"
      },
      "source": [
        "<a href=\"https://colab.research.google.com/github/Satyam-kumar-yadav/EfficientNetB5_breed_pred/blob/main/Densenet121_breed_pred.ipynb\" target=\"_parent\"><img src=\"https://colab.research.google.com/assets/colab-badge.svg\" alt=\"Open In Colab\"/></a>"
      ]
    },
    {
      "cell_type": "code",
      "metadata": {
        "id": "D41QphM0bKUj",
        "outputId": "0e823996-7106-4d64-94c0-c6a56e9588bb",
        "colab": {
          "base_uri": "https://localhost:8080/"
        }
      },
      "source": [
        "from google.colab import drive\n",
        "drive.mount('/content/drive')"
      ],
      "execution_count": 1,
      "outputs": [
        {
          "output_type": "stream",
          "text": [
            "Mounted at /content/drive\n"
          ],
          "name": "stdout"
        }
      ]
    },
    {
      "cell_type": "code",
      "metadata": {
        "id": "jSYqkZ6W3d1z"
      },
      "source": [
        "import cv2\n",
        "import glob\n",
        "import numpy as np\n",
        "import pandas as pd\n",
        "import shutil\n",
        "import os\n",
        "from PIL import Image\n",
        "import matplotlib.pyplot as plt\n",
        "from sklearn.model_selection import train_test_split\n",
        "from skimage.filters import sobel\n",
        "from keras.optimizers import SGD,Adam\n",
        "import tensorflow as tf\n",
        "from tensorflow import keras\n",
        "from keras.preprocessing.image import load_img\n",
        "from keras.models import Sequential\n",
        "from keras.applications.resnet50 import ResNet50\n",
        "from keras.layers import Conv2D,MaxPooling2D,GlobalAveragePooling2D,Dense,Flatten,Dropout,AvgPool2D\n",
        "from keras.layers.normalization import BatchNormalization\n",
        "from keras.applications import inception_v3\n",
        "from keras.applications.vgg16 import preprocess_input, decode_predictions\n",
        "from sklearn.linear_model import LogisticRegression"
      ],
      "execution_count": 2,
      "outputs": []
    },
    {
      "cell_type": "code",
      "metadata": {
        "id": "grzsnQ1LxMj2",
        "outputId": "d8b9476d-3b41-401b-91a6-4d540fba7c31",
        "colab": {
          "base_uri": "https://localhost:8080/",
          "height": 402
        }
      },
      "source": [
        "labels = pd.read_csv('/content/drive/My Drive/Snake_breed/dataset/train.csv')\n",
        "labels"
      ],
      "execution_count": 3,
      "outputs": [
        {
          "output_type": "execute_result",
          "data": {
            "text/html": [
              "<div>\n",
              "<style scoped>\n",
              "    .dataframe tbody tr th:only-of-type {\n",
              "        vertical-align: middle;\n",
              "    }\n",
              "\n",
              "    .dataframe tbody tr th {\n",
              "        vertical-align: top;\n",
              "    }\n",
              "\n",
              "    .dataframe thead th {\n",
              "        text-align: right;\n",
              "    }\n",
              "</style>\n",
              "<table border=\"1\" class=\"dataframe\">\n",
              "  <thead>\n",
              "    <tr style=\"text-align: right;\">\n",
              "      <th></th>\n",
              "      <th>image_id</th>\n",
              "      <th>breed</th>\n",
              "    </tr>\n",
              "  </thead>\n",
              "  <tbody>\n",
              "    <tr>\n",
              "      <th>0</th>\n",
              "      <td>a8b3ad1dde</td>\n",
              "      <td>nerodia-erythrogaster</td>\n",
              "    </tr>\n",
              "    <tr>\n",
              "      <th>1</th>\n",
              "      <td>8b492b973d</td>\n",
              "      <td>pantherophis-vulpinus</td>\n",
              "    </tr>\n",
              "    <tr>\n",
              "      <th>2</th>\n",
              "      <td>929b99ea92</td>\n",
              "      <td>thamnophis-sirtalis</td>\n",
              "    </tr>\n",
              "    <tr>\n",
              "      <th>3</th>\n",
              "      <td>bbac7385e2</td>\n",
              "      <td>pantherophis-obsoletus</td>\n",
              "    </tr>\n",
              "    <tr>\n",
              "      <th>4</th>\n",
              "      <td>ef776b1488</td>\n",
              "      <td>agkistrodon-contortrix</td>\n",
              "    </tr>\n",
              "    <tr>\n",
              "      <th>...</th>\n",
              "      <td>...</td>\n",
              "      <td>...</td>\n",
              "    </tr>\n",
              "    <tr>\n",
              "      <th>5503</th>\n",
              "      <td>5f0c970adf</td>\n",
              "      <td>lampropeltis-triangulum</td>\n",
              "    </tr>\n",
              "    <tr>\n",
              "      <th>5504</th>\n",
              "      <td>f6a4287fac</td>\n",
              "      <td>pantherophis-alleghaniensis</td>\n",
              "    </tr>\n",
              "    <tr>\n",
              "      <th>5505</th>\n",
              "      <td>d3c10e63e1</td>\n",
              "      <td>thamnophis-sirtalis</td>\n",
              "    </tr>\n",
              "    <tr>\n",
              "      <th>5506</th>\n",
              "      <td>61ef50879c</td>\n",
              "      <td>pituophis-catenifer</td>\n",
              "    </tr>\n",
              "    <tr>\n",
              "      <th>5507</th>\n",
              "      <td>4791d8bf9a</td>\n",
              "      <td>lampropeltis-triangulum</td>\n",
              "    </tr>\n",
              "  </tbody>\n",
              "</table>\n",
              "<p>5508 rows × 2 columns</p>\n",
              "</div>"
            ],
            "text/plain": [
              "        image_id                        breed\n",
              "0     a8b3ad1dde        nerodia-erythrogaster\n",
              "1     8b492b973d        pantherophis-vulpinus\n",
              "2     929b99ea92          thamnophis-sirtalis\n",
              "3     bbac7385e2       pantherophis-obsoletus\n",
              "4     ef776b1488       agkistrodon-contortrix\n",
              "...          ...                          ...\n",
              "5503  5f0c970adf      lampropeltis-triangulum\n",
              "5504  f6a4287fac  pantherophis-alleghaniensis\n",
              "5505  d3c10e63e1          thamnophis-sirtalis\n",
              "5506  61ef50879c          pituophis-catenifer\n",
              "5507  4791d8bf9a      lampropeltis-triangulum\n",
              "\n",
              "[5508 rows x 2 columns]"
            ]
          },
          "metadata": {
            "tags": []
          },
          "execution_count": 3
        }
      ]
    },
    {
      "cell_type": "code",
      "metadata": {
        "id": "6KBl05Oy3clU",
        "outputId": "2e0d39a0-b265-4173-f82a-cdaa69123815",
        "colab": {
          "base_uri": "https://localhost:8080/"
        }
      },
      "source": [
        "breeds=list(labels['breed'].unique())\n",
        "len(breeds)"
      ],
      "execution_count": 4,
      "outputs": [
        {
          "output_type": "execute_result",
          "data": {
            "text/plain": [
              "35"
            ]
          },
          "metadata": {
            "tags": []
          },
          "execution_count": 4
        }
      ]
    },
    {
      "cell_type": "code",
      "metadata": {
        "id": "Tf8O2ltU4141",
        "outputId": "a2e1a988-2753-4bbf-a040-4145f44ee6a4",
        "colab": {
          "base_uri": "https://localhost:8080/"
        }
      },
      "source": [
        "!nvidia-smi"
      ],
      "execution_count": 5,
      "outputs": [
        {
          "output_type": "stream",
          "text": [
            "Fri Nov 13 14:43:22 2020       \n",
            "+-----------------------------------------------------------------------------+\n",
            "| NVIDIA-SMI 455.32.00    Driver Version: 418.67       CUDA Version: 10.1     |\n",
            "|-------------------------------+----------------------+----------------------+\n",
            "| GPU  Name        Persistence-M| Bus-Id        Disp.A | Volatile Uncorr. ECC |\n",
            "| Fan  Temp  Perf  Pwr:Usage/Cap|         Memory-Usage | GPU-Util  Compute M. |\n",
            "|                               |                      |               MIG M. |\n",
            "|===============================+======================+======================|\n",
            "|   0  Tesla T4            Off  | 00000000:00:04.0 Off |                    0 |\n",
            "| N/A   59C    P8    12W /  70W |      0MiB / 15079MiB |      0%      Default |\n",
            "|                               |                      |                 ERR! |\n",
            "+-------------------------------+----------------------+----------------------+\n",
            "                                                                               \n",
            "+-----------------------------------------------------------------------------+\n",
            "| Processes:                                                                  |\n",
            "|  GPU   GI   CI        PID   Type   Process name                  GPU Memory |\n",
            "|        ID   ID                                                   Usage      |\n",
            "|=============================================================================|\n",
            "|  No running processes found                                                 |\n",
            "+-----------------------------------------------------------------------------+\n"
          ],
          "name": "stdout"
        }
      ]
    },
    {
      "cell_type": "code",
      "metadata": {
        "id": "2UbuUfBZ3vAk"
      },
      "source": [
        "path = '/content/drive/My Drive/Snake_breed/dataset/train/a8b3ad1dde.jpg'"
      ],
      "execution_count": null,
      "outputs": []
    },
    {
      "cell_type": "code",
      "metadata": {
        "id": "9wAaOHu84S_7",
        "outputId": "8d020fde-c457-434c-d7cb-06ec86be716c",
        "colab": {
          "base_uri": "https://localhost:8080/",
          "height": 253
        }
      },
      "source": [
        "img = load_img(path)\n",
        "plt.grid(False)\n",
        "plt.axis('OFF')\n",
        "plt.imshow(img)\n",
        "lab_ = path.split('/')[-1]\n",
        "labels['breed'].loc[labels['image_id'] == lab_.split('.')[0]]\n"
      ],
      "execution_count": null,
      "outputs": [
        {
          "output_type": "execute_result",
          "data": {
            "text/plain": [
              "0    nerodia-erythrogaster\n",
              "Name: breed, dtype: object"
            ]
          },
          "metadata": {
            "tags": []
          },
          "execution_count": 14
        },
        {
          "output_type": "display_data",
          "data": {
            "image/png": "[encoded data removed]",
            "text/plain": [
              "<Figure size 432x288 with 1 Axes>"
            ]
          },
          "metadata": {
            "tags": [],
            "needs_background": "light"
          }
        }
      ]
    },
    {
      "cell_type": "code",
      "metadata": {
        "id": "cFn2E7nU_bli",
        "outputId": "e42efa9c-394e-4a4d-d934-26abc3a20660",
        "colab": {
          "base_uri": "https://localhost:8080/"
        }
      },
      "source": [
        "from tensorflow.python.keras.preprocessing.image import ImageDataGenerator\n",
        "# from keras.applications.resnet50 import preprocess_input\n",
        "\n",
        "image_size=128\n",
        "image_path='/content/drive/My Drive/Snake_breed/dataset/new_train/'\n",
        "\n",
        "train_datagen=ImageDataGenerator(\n",
        "                        rescale=1./255,\n",
        "                        validation_split=0.1,\n",
        "                        horizontal_flip=True,\n",
        "                        zoom_range=0.2,\n",
        "                        width_shift_range=0.2,\n",
        "                        height_shift_range=0.2,\n",
        "                        shear_range=0.2,\n",
        "                        rotation_range=40,\n",
        "                        fill_mode='nearest',\n",
        "                        vertical_flip = True\n",
        "                        )\n",
        "\n",
        "train_generator=train_datagen.flow_from_directory(\n",
        "                        image_path, \n",
        "                        target_size=(image_size,image_size),\n",
        "                        subset='training',\n",
        "                        shuffle=True,\n",
        "                         batch_size=32,\n",
        "                        class_mode='categorical'\n",
        "                        )\n",
        "\n",
        "valid_datagen=ImageDataGenerator(\n",
        "                        validation_split=0.1,\n",
        "                        rescale=1./255\n",
        "                        )\n",
        "\n",
        "valid_generator=valid_datagen.flow_from_directory(\n",
        "                        image_path, \n",
        "                        target_size=(image_size,image_size),\n",
        "                        subset='validation',\n",
        "                        shuffle=False,\n",
        "                         batch_size=32,\n",
        "                        class_mode='categorical'\n",
        "                        )"
      ],
      "execution_count": 9,
      "outputs": [
        {
          "output_type": "stream",
          "text": [
            "Found 4973 images belonging to 35 classes.\n",
            "Found 535 images belonging to 35 classes.\n"
          ],
          "name": "stdout"
        }
      ]
    },
    {
      "cell_type": "code",
      "metadata": {
        "id": "7DXn2EbX_Ot_",
        "outputId": "0b5d2727-ced1-41f4-ed22-f1538949dfb3",
        "colab": {
          "base_uri": "https://localhost:8080/"
        }
      },
      "source": [
        "x,y = train_generator.next()\n",
        "labels = (train_generator.class_indices)\n",
        "labels = dict((v,k) for k,v in labels.items())\n",
        "print(labels)"
      ],
      "execution_count": 10,
      "outputs": [
        {
          "output_type": "stream",
          "text": [
            "{0: 'agkistrodon-contortrix', 1: 'agkistrodon-piscivorus', 2: 'coluber-constrictor', 3: 'crotalus-atrox', 4: 'crotalus-horridus', 5: 'crotalus-ruber', 6: 'crotalus-scutulatus', 7: 'crotalus-viridis', 8: 'diadophis-punctatus', 9: 'haldea-striatula', 10: 'heterodon-platirhinos', 11: 'lampropeltis-californiae', 12: 'lampropeltis-triangulum', 13: 'masticophis-flagellum', 14: 'natrix-natrix', 15: 'nerodia-erythrogaster', 16: 'nerodia-fasciata', 17: 'nerodia-rhombifer', 18: 'nerodia-sipedon', 19: 'opheodrys-aestivus', 20: 'pantherophis-alleghaniensis', 21: 'pantherophis-emoryi', 22: 'pantherophis-guttatus', 23: 'pantherophis-obsoletus', 24: 'pantherophis-spiloides', 25: 'pantherophis-vulpinus', 26: 'pituophis-catenifer', 27: 'rhinocheilus-lecontei', 28: 'storeria-dekayi', 29: 'storeria-occipitomaculata', 30: 'thamnophis-elegans', 31: 'thamnophis-marcianus', 32: 'thamnophis-proximus', 33: 'thamnophis-radix', 34: 'thamnophis-sirtalis'}\n"
          ],
          "name": "stdout"
        }
      ]
    },
    {
      "cell_type": "code",
      "metadata": {
        "id": "yTkcVQrTAUkF",
        "outputId": "4bb7db0c-69ce-429e-a0d0-b16d375a50ec",
        "colab": {
          "base_uri": "https://localhost:8080/"
        }
      },
      "source": [
        "x.shape , y.shape"
      ],
      "execution_count": 11,
      "outputs": [
        {
          "output_type": "execute_result",
          "data": {
            "text/plain": [
              "((32, 128, 128, 3), (32, 35))"
            ]
          },
          "metadata": {
            "tags": []
          },
          "execution_count": 11
        }
      ]
    },
    {
      "cell_type": "code",
      "metadata": {
        "id": "1BqWOiipMEs2"
      },
      "source": [
        "x_valid , y_valid = valid_generator.next()"
      ],
      "execution_count": null,
      "outputs": []
    },
    {
      "cell_type": "code",
      "metadata": {
        "id": "SyCbcCd4PxuJ",
        "outputId": "49ff883f-6d32-44ef-9156-3e13d9162fd5",
        "colab": {
          "base_uri": "https://localhost:8080/"
        }
      },
      "source": [
        "x_valid.shape , y_valid.shape"
      ],
      "execution_count": null,
      "outputs": [
        {
          "output_type": "execute_result",
          "data": {
            "text/plain": [
              "((32, 128, 128, 3), (32, 35))"
            ]
          },
          "metadata": {
            "tags": []
          },
          "execution_count": 66
        }
      ]
    },
    {
      "cell_type": "code",
      "metadata": {
        "id": "1zsgoZV-HKOH"
      },
      "source": [
        "from keras.applications.densenet import DenseNet121, preprocess_input"
      ],
      "execution_count": 15,
      "outputs": []
    },
    {
      "cell_type": "code",
      "metadata": {
        "id": "wS2Eh0_uQUzB",
        "outputId": "3ce3f479-65a6-4535-e34b-6f73cafe1cd1",
        "colab": {
          "base_uri": "https://localhost:8080/"
        }
      },
      "source": [
        "#Defining the model\n",
        "# base_model = EfficientNetB5(include_top=False, weights=\"imagenet\", input_shape=(128,128,3),classes=y.shape[1])\n",
        "\n",
        "\n",
        "#Adding the final layers to the above base models where the actual classification is done in the dense layers\n",
        "base_model = DenseNet121(input_shape = (128 , 128 ,3) ,\n",
        "                       weights=\"imagenet\",\n",
        "                       include_top=False)\n",
        "model= Sequential()\n",
        "model.add(base_model) \n",
        "# model.add(Dense(input_shape = (image_size , image_size , 3) , activation='relu')\n",
        "model.add(GlobalAveragePooling2D())\n",
        "\n",
        "# model.add(Flatten()) \n",
        "\n",
        "model.add(Dense(1024,activation='relu'))\n",
        "model.add(Dropout(0.5))\n",
        "model.add(Dense(512 , activation='relu'))\n",
        "model.add(Dropout(0.5))\n",
        "model.add(Dense(len(breeds),activation='softmax'))\n",
        "\n",
        "# model.layers[0].trainable=False\n",
        "for layer in model.layers[:-6]:\n",
        "    layer.trainable = False\n",
        "\n",
        "model.summary()"
      ],
      "execution_count": 18,
      "outputs": [
        {
          "output_type": "stream",
          "text": [
            "Model: \"sequential_2\"\n",
            "_________________________________________________________________\n",
            "Layer (type)                 Output Shape              Param #   \n",
            "=================================================================\n",
            "densenet121 (Functional)     (None, 4, 4, 1024)        7037504   \n",
            "_________________________________________________________________\n",
            "global_average_pooling2d_1 ( (None, 1024)              0         \n",
            "_________________________________________________________________\n",
            "dense_3 (Dense)              (None, 1024)              1049600   \n",
            "_________________________________________________________________\n",
            "dropout_2 (Dropout)          (None, 1024)              0         \n",
            "_________________________________________________________________\n",
            "dense_4 (Dense)              (None, 512)               524800    \n",
            "_________________________________________________________________\n",
            "dropout_3 (Dropout)          (None, 512)               0         \n",
            "_________________________________________________________________\n",
            "dense_5 (Dense)              (None, 35)                17955     \n",
            "=================================================================\n",
            "Total params: 8,629,859\n",
            "Trainable params: 1,592,355\n",
            "Non-trainable params: 7,037,504\n",
            "_________________________________________________________________\n"
          ],
          "name": "stdout"
        }
      ]
    },
    {
      "cell_type": "code",
      "metadata": {
        "id": "_mHG4UrEP3FJ"
      },
      "source": [
        "from keras.callbacks import ReduceLROnPlateau\n",
        "lrr= ReduceLROnPlateau(monitor='loss',   factor=.01,   patience=5,  min_lr=1e-5)"
      ],
      "execution_count": null,
      "outputs": []
    },
    {
      "cell_type": "code",
      "metadata": {
        "id": "DhrlYblJSJGs"
      },
      "source": [
        "# callback=tf.keras.callbacks.EarlyStopping(monitor='loss',patience=5,min_delta=0,mode='auto',restore_best_weights=False,baseline=None)\n",
        "\n",
        "# learn_rate=.001\n",
        "# sgd=SGD(lr=learn_rate,momentum=.9,nesterov=False)\n",
        "model.compile(optimizer='adam' ,\n",
        "             loss='categorical_crossentropy',\n",
        "             metrics=['accuracy']\n",
        "             )\n",
        "history=model.fit_generator(train_generator,\n",
        "                   steps_per_epoch=None,\n",
        "                   epochs=20,\n",
        "                   validation_data=valid_generator,\n",
        "                   validation_steps=4 ,\n",
        "                  \n",
        "                  )"
      ],
      "execution_count": null,
      "outputs": []
    },
    {
      "cell_type": "code",
      "metadata": {
        "id": "3F7s_u4US9Lj"
      },
      "source": [
        "def plot_model(history):\n",
        "    fig,(ax1,ax2)=plt.subplots(1,2,figsize=(12,4))\n",
        "    fig.suptitle('Model Accuracy and Loss')\n",
        "\n",
        "    ax1.plot(history.history['accuracy'])\n",
        "    ax1.plot(history.history['val_accuracy'])\n",
        "    ax1.title.set_text('Accuracy')\n",
        "    ax1.set_ylabel('Accuracy')\n",
        "    ax1.set_xlabel('Epoch')\n",
        "    ax1.legend(['Train','Valid'],loc=4)\n",
        "\n",
        "    ax2.plot(history.history['loss'])\n",
        "    ax2.plot(history.history['val_loss'])\n",
        "    ax2.title.set_text('Loss')\n",
        "    ax2.set_ylabel('Loss')\n",
        "    ax2.set_xlabel('Epoch')\n",
        "    ax2.legend(['Train','Valid'],loc=1)\n",
        "\n",
        "    fig.show()\n",
        "\n",
        "plot_model(history)"
      ],
      "execution_count": null,
      "outputs": []
    },
    {
      "cell_type": "code",
      "metadata": {
        "id": "NI93O_LfKb0A"
      },
      "source": [
        "for layer in model.layers[:]:\n",
        "    layer.trainable = True"
      ],
      "execution_count": 21,
      "outputs": []
    },
    {
      "cell_type": "code",
      "metadata": {
        "id": "81aot3GxPgBN"
      },
      "source": [
        "from keras.callbacks import ReduceLROnPlateau\n",
        "from keras.callbacks import ModelCheckpoint"
      ],
      "execution_count": 24,
      "outputs": []
    },
    {
      "cell_type": "code",
      "metadata": {
        "id": "sq4Vq6SLKcsi"
      },
      "source": [
        "checkpoint = ModelCheckpoint(\n",
        "                             monitor='val_acc', \n",
        "                             verbose=1, \n",
        "                             save_best_only=True, \n",
        "                             mode='max', \n",
        "                             save_weights_only=True)\n",
        "\n",
        "# a reducing lr callback to reduce lr when val_loss doesn't increase\n",
        "reduce_lr = ReduceLROnPlateau(monitor='val_loss', factor=0.2,\n",
        "                                   patience=1, verbose=1, mode='min',\n",
        "                                   min_delta=0.0001, cooldown=2, min_lr=1e-7)\n",
        "callback=tf.keras.callbacks.EarlyStopping(monitor='val_loss',patience=5,min_delta=0,mode='min',restore_best_weights=False,baseline=None)\n",
        "# for early stop\n",
        "# early_stop = EarlyStopping(monitor=\"val_loss\", mode=\"min\", patience=5)"
      ],
      "execution_count": 25,
      "outputs": []
    },
    {
      "cell_type": "code",
      "metadata": {
        "id": "on9ioUr-LECJ"
      },
      "source": [
        "history = model.fit(train_generator,\n",
        "                   steps_per_epoch=None,\n",
        "                   epochs=100,\n",
        "                   validation_data=valid_generator,\n",
        "                   validation_steps=4 ,\n",
        "                              callbacks=[checkpoint, reduce_lr, callback])"
      ],
      "execution_count": null,
      "outputs": []
    },
    {
      "cell_type": "code",
      "metadata": {
        "id": "_FF5kYpwLf3i"
      },
      "source": [
        "def plot_model(history):\n",
        "    fig,(ax1,ax2)=plt.subplots(1,2,figsize=(12,4))\n",
        "    fig.suptitle('Model Accuracy and Loss')\n",
        "\n",
        "    ax1.plot(history.history['accuracy'])\n",
        "    ax1.plot(history.history['val_accuracy'])\n",
        "    ax1.title.set_text('Accuracy')\n",
        "    ax1.set_ylabel('Accuracy')\n",
        "    ax1.set_xlabel('Epoch')\n",
        "    ax1.legend(['Train','Valid'],loc=4)\n",
        "\n",
        "    ax2.plot(history.history['loss'])\n",
        "    ax2.plot(history.history['val_loss'])\n",
        "    ax2.title.set_text('Loss')\n",
        "    ax2.set_ylabel('Loss')\n",
        "    ax2.set_xlabel('Epoch')\n",
        "    ax2.legend(['Train','Valid'],loc=1)\n",
        "\n",
        "    fig.show()\n",
        "\n",
        "plot_model(history)"
      ],
      "execution_count": null,
      "outputs": []
    },
    {
      "cell_type": "code",
      "metadata": {
        "id": "2yhKgppjS2Pu"
      },
      "source": [
        "model.save('/content/drive/My Drive/Snake_breed/model1/Dense122.h5')"
      ],
      "execution_count": 31,
      "outputs": []
    },
    {
      "cell_type": "code",
      "metadata": {
        "id": "aBHv2AQTAsZF"
      },
      "source": [
        "model = keras.models.load_model('/content/drive/My Drive/Snake_breed/model1/Dense122.h5')"
      ],
      "execution_count": null,
      "outputs": []
    },
    {
      "cell_type": "code",
      "metadata": {
        "id": "mul7b90HYfo-",
        "outputId": "d2686187-8478-4456-8cf0-f55a9858b491",
        "colab": {
          "base_uri": "https://localhost:8080/"
        }
      },
      "source": [
        "test_generator = valid_datagen.flow_from_directory(\n",
        "    '/content/drive/My Drive/Snake_breed/dataset/new_test/',\n",
        "    target_size=(224,224),\n",
        "    color_mode=\"rgb\",\n",
        "    batch_size=32,\n",
        "    class_mode=None,\n",
        "    shuffle=False\n",
        ")"
      ],
      "execution_count": 34,
      "outputs": [
        {
          "output_type": "stream",
          "text": [
            "Found 2361 images belonging to 1 classes.\n"
          ],
          "name": "stdout"
        }
      ]
    },
    {
      "cell_type": "code",
      "metadata": {
        "id": "PBOfE0f1Yvw4"
      },
      "source": [
        "test_generator.reset()\n",
        "pred=model.predict(test_generator,verbose=1,steps=None)"
      ],
      "execution_count": null,
      "outputs": []
    },
    {
      "cell_type": "code",
      "metadata": {
        "id": "TAbt0kK8Yzv0"
      },
      "source": [
        "n = len(labels)\n",
        "n_class = len(breeds)  \n",
        "class_to_num = dict(zip(breeds, range(n_class)))\n",
        "num_to_class = dict(zip(range(n_class), breeds))\n",
        "\n",
        "df2 = pd.read_csv('/content/drive/My Drive/Snake_breed/dataset/test.csv')\n",
        "\n",
        "for b in breeds:\n",
        "    df2[b] = pred[:,class_to_num[b]]\n",
        "    \n",
        "\n",
        "df2.to_csv('pred.csv', index=None)"
      ],
      "execution_count": 41,
      "outputs": []
    },
    {
      "cell_type": "code",
      "metadata": {
        "id": "7pwn2KRwY5z1",
        "outputId": "21005737-8d15-46b6-8a1b-eb208cf1c680",
        "colab": {
          "base_uri": "https://localhost:8080/",
          "height": 232
        }
      },
      "source": [
        "df_4 = pd.read_csv('/content/pred.csv')\n",
        "df_4.head()"
      ],
      "execution_count": 42,
      "outputs": [
        {
          "output_type": "execute_result",
          "data": {
            "text/html": [
              "<div>\n",
              "<style scoped>\n",
              "    .dataframe tbody tr th:only-of-type {\n",
              "        vertical-align: middle;\n",
              "    }\n",
              "\n",
              "    .dataframe tbody tr th {\n",
              "        vertical-align: top;\n",
              "    }\n",
              "\n",
              "    .dataframe thead th {\n",
              "        text-align: right;\n",
              "    }\n",
              "</style>\n",
              "<table border=\"1\" class=\"dataframe\">\n",
              "  <thead>\n",
              "    <tr style=\"text-align: right;\">\n",
              "      <th></th>\n",
              "      <th>image_id</th>\n",
              "      <th>nerodia-erythrogaster</th>\n",
              "      <th>pantherophis-vulpinus</th>\n",
              "      <th>thamnophis-sirtalis</th>\n",
              "      <th>pantherophis-obsoletus</th>\n",
              "      <th>agkistrodon-contortrix</th>\n",
              "      <th>crotalus-atrox</th>\n",
              "      <th>lampropeltis-triangulum</th>\n",
              "      <th>crotalus-horridus</th>\n",
              "      <th>crotalus-ruber</th>\n",
              "      <th>heterodon-platirhinos</th>\n",
              "      <th>nerodia-sipedon</th>\n",
              "      <th>thamnophis-elegans</th>\n",
              "      <th>thamnophis-marcianus</th>\n",
              "      <th>crotalus-viridis</th>\n",
              "      <th>nerodia-fasciata</th>\n",
              "      <th>haldea-striatula</th>\n",
              "      <th>storeria-dekayi</th>\n",
              "      <th>agkistrodon-piscivorus</th>\n",
              "      <th>nerodia-rhombifer</th>\n",
              "      <th>storeria-occipitomaculata</th>\n",
              "      <th>thamnophis-radix</th>\n",
              "      <th>coluber-constrictor</th>\n",
              "      <th>natrix-natrix</th>\n",
              "      <th>diadophis-punctatus</th>\n",
              "      <th>masticophis-flagellum</th>\n",
              "      <th>pantherophis-spiloides</th>\n",
              "      <th>rhinocheilus-lecontei</th>\n",
              "      <th>lampropeltis-californiae</th>\n",
              "      <th>pituophis-catenifer</th>\n",
              "      <th>opheodrys-aestivus</th>\n",
              "      <th>pantherophis-guttatus</th>\n",
              "      <th>pantherophis-alleghaniensis</th>\n",
              "      <th>thamnophis-proximus</th>\n",
              "      <th>pantherophis-emoryi</th>\n",
              "      <th>crotalus-scutulatus</th>\n",
              "    </tr>\n",
              "  </thead>\n",
              "  <tbody>\n",
              "    <tr>\n",
              "      <th>0</th>\n",
              "      <td>7ede553357</td>\n",
              "      <td>0.033439</td>\n",
              "      <td>0.010394</td>\n",
              "      <td>0.013039</td>\n",
              "      <td>0.179938</td>\n",
              "      <td>0.033962</td>\n",
              "      <td>0.029269</td>\n",
              "      <td>0.085074</td>\n",
              "      <td>0.047842</td>\n",
              "      <td>0.009284</td>\n",
              "      <td>0.003183</td>\n",
              "      <td>0.035468</td>\n",
              "      <td>0.053197</td>\n",
              "      <td>0.027202</td>\n",
              "      <td>0.009280</td>\n",
              "      <td>0.004284</td>\n",
              "      <td>0.015776</td>\n",
              "      <td>0.006501</td>\n",
              "      <td>0.009381</td>\n",
              "      <td>0.007572</td>\n",
              "      <td>0.004892</td>\n",
              "      <td>0.010807</td>\n",
              "      <td>0.051990</td>\n",
              "      <td>0.008998</td>\n",
              "      <td>0.052238</td>\n",
              "      <td>0.009512</td>\n",
              "      <td>0.014423</td>\n",
              "      <td>0.075058</td>\n",
              "      <td>0.043591</td>\n",
              "      <td>0.027270</td>\n",
              "      <td>0.001077</td>\n",
              "      <td>0.006269</td>\n",
              "      <td>0.039733</td>\n",
              "      <td>0.003437</td>\n",
              "      <td>0.005372</td>\n",
              "      <td>0.031248</td>\n",
              "    </tr>\n",
              "    <tr>\n",
              "      <th>1</th>\n",
              "      <td>3500b219e4</td>\n",
              "      <td>0.015778</td>\n",
              "      <td>0.009613</td>\n",
              "      <td>0.019714</td>\n",
              "      <td>0.042899</td>\n",
              "      <td>0.027645</td>\n",
              "      <td>0.004317</td>\n",
              "      <td>0.022692</td>\n",
              "      <td>0.012353</td>\n",
              "      <td>0.016037</td>\n",
              "      <td>0.007655</td>\n",
              "      <td>0.016884</td>\n",
              "      <td>0.078111</td>\n",
              "      <td>0.055569</td>\n",
              "      <td>0.015211</td>\n",
              "      <td>0.009903</td>\n",
              "      <td>0.020890</td>\n",
              "      <td>0.008416</td>\n",
              "      <td>0.015453</td>\n",
              "      <td>0.015701</td>\n",
              "      <td>0.010650</td>\n",
              "      <td>0.024861</td>\n",
              "      <td>0.039102</td>\n",
              "      <td>0.020177</td>\n",
              "      <td>0.069676</td>\n",
              "      <td>0.021330</td>\n",
              "      <td>0.037870</td>\n",
              "      <td>0.065983</td>\n",
              "      <td>0.038490</td>\n",
              "      <td>0.036695</td>\n",
              "      <td>0.004957</td>\n",
              "      <td>0.017684</td>\n",
              "      <td>0.066086</td>\n",
              "      <td>0.020743</td>\n",
              "      <td>0.028260</td>\n",
              "      <td>0.082595</td>\n",
              "    </tr>\n",
              "    <tr>\n",
              "      <th>2</th>\n",
              "      <td>d43a78d6d9</td>\n",
              "      <td>0.017572</td>\n",
              "      <td>0.032142</td>\n",
              "      <td>0.026418</td>\n",
              "      <td>0.027032</td>\n",
              "      <td>0.029124</td>\n",
              "      <td>0.006524</td>\n",
              "      <td>0.008009</td>\n",
              "      <td>0.009889</td>\n",
              "      <td>0.015100</td>\n",
              "      <td>0.010021</td>\n",
              "      <td>0.019556</td>\n",
              "      <td>0.026516</td>\n",
              "      <td>0.032186</td>\n",
              "      <td>0.017947</td>\n",
              "      <td>0.026903</td>\n",
              "      <td>0.038857</td>\n",
              "      <td>0.020137</td>\n",
              "      <td>0.037926</td>\n",
              "      <td>0.053108</td>\n",
              "      <td>0.035085</td>\n",
              "      <td>0.042191</td>\n",
              "      <td>0.013335</td>\n",
              "      <td>0.015156</td>\n",
              "      <td>0.064911</td>\n",
              "      <td>0.035772</td>\n",
              "      <td>0.026463</td>\n",
              "      <td>0.047232</td>\n",
              "      <td>0.011204</td>\n",
              "      <td>0.032405</td>\n",
              "      <td>0.008342</td>\n",
              "      <td>0.023061</td>\n",
              "      <td>0.027743</td>\n",
              "      <td>0.046840</td>\n",
              "      <td>0.033357</td>\n",
              "      <td>0.081934</td>\n",
              "    </tr>\n",
              "    <tr>\n",
              "      <th>3</th>\n",
              "      <td>1f36f26994</td>\n",
              "      <td>0.002816</td>\n",
              "      <td>0.001827</td>\n",
              "      <td>0.034716</td>\n",
              "      <td>0.002643</td>\n",
              "      <td>0.001037</td>\n",
              "      <td>0.000309</td>\n",
              "      <td>0.000886</td>\n",
              "      <td>0.000668</td>\n",
              "      <td>0.096799</td>\n",
              "      <td>0.128326</td>\n",
              "      <td>0.009803</td>\n",
              "      <td>0.009810</td>\n",
              "      <td>0.010928</td>\n",
              "      <td>0.027318</td>\n",
              "      <td>0.011561</td>\n",
              "      <td>0.025713</td>\n",
              "      <td>0.009731</td>\n",
              "      <td>0.004234</td>\n",
              "      <td>0.014987</td>\n",
              "      <td>0.019394</td>\n",
              "      <td>0.016949</td>\n",
              "      <td>0.004679</td>\n",
              "      <td>0.006516</td>\n",
              "      <td>0.021510</td>\n",
              "      <td>0.004646</td>\n",
              "      <td>0.004524</td>\n",
              "      <td>0.010063</td>\n",
              "      <td>0.001173</td>\n",
              "      <td>0.207507</td>\n",
              "      <td>0.078161</td>\n",
              "      <td>0.029144</td>\n",
              "      <td>0.008984</td>\n",
              "      <td>0.044147</td>\n",
              "      <td>0.046907</td>\n",
              "      <td>0.101583</td>\n",
              "    </tr>\n",
              "    <tr>\n",
              "      <th>4</th>\n",
              "      <td>8cb85fc58e</td>\n",
              "      <td>0.026024</td>\n",
              "      <td>0.028244</td>\n",
              "      <td>0.032445</td>\n",
              "      <td>0.026292</td>\n",
              "      <td>0.025594</td>\n",
              "      <td>0.011162</td>\n",
              "      <td>0.009935</td>\n",
              "      <td>0.015301</td>\n",
              "      <td>0.030459</td>\n",
              "      <td>0.024738</td>\n",
              "      <td>0.028385</td>\n",
              "      <td>0.024865</td>\n",
              "      <td>0.036559</td>\n",
              "      <td>0.026855</td>\n",
              "      <td>0.024989</td>\n",
              "      <td>0.033684</td>\n",
              "      <td>0.022580</td>\n",
              "      <td>0.027575</td>\n",
              "      <td>0.043549</td>\n",
              "      <td>0.021644</td>\n",
              "      <td>0.036814</td>\n",
              "      <td>0.019109</td>\n",
              "      <td>0.020752</td>\n",
              "      <td>0.049081</td>\n",
              "      <td>0.025274</td>\n",
              "      <td>0.027161</td>\n",
              "      <td>0.044007</td>\n",
              "      <td>0.012770</td>\n",
              "      <td>0.047668</td>\n",
              "      <td>0.018963</td>\n",
              "      <td>0.029397</td>\n",
              "      <td>0.020819</td>\n",
              "      <td>0.028176</td>\n",
              "      <td>0.027622</td>\n",
              "      <td>0.071509</td>\n",
              "    </tr>\n",
              "  </tbody>\n",
              "</table>\n",
              "</div>"
            ],
            "text/plain": [
              "     image_id  nerodia-erythrogaster  ...  pantherophis-emoryi  crotalus-scutulatus\n",
              "0  7ede553357               0.033439  ...             0.005372             0.031248\n",
              "1  3500b219e4               0.015778  ...             0.028260             0.082595\n",
              "2  d43a78d6d9               0.017572  ...             0.033357             0.081934\n",
              "3  1f36f26994               0.002816  ...             0.046907             0.101583\n",
              "4  8cb85fc58e               0.026024  ...             0.027622             0.071509\n",
              "\n",
              "[5 rows x 36 columns]"
            ]
          },
          "metadata": {
            "tags": []
          },
          "execution_count": 42
        }
      ]
    },
    {
      "cell_type": "code",
      "metadata": {
        "id": "z_MaWYK1Y-Ot"
      },
      "source": [
        "submission = pd.DataFrame(df_4['image_id'])\n",
        "data_max = df_4.drop('image_id' , axis = 1)\n",
        "submission['breed'] = data_max.idxmax(axis = 1)"
      ],
      "execution_count": 43,
      "outputs": []
    },
    {
      "cell_type": "code",
      "metadata": {
        "id": "dg4jggjoZA8_"
      },
      "source": [
        "submission.to_csv('prediction.csv' , index=None)"
      ],
      "execution_count": 44,
      "outputs": []
    }
  ]
}