{
  "nbformat": 4,
  "nbformat_minor": 0,
  "metadata": {
    "colab": {
      "name": "Christmas.ipynb",
      "provenance": [],
      "authorship_tag": "ABX9TyMIZaXgfj/6vONrXG1w/Vwy",
      "include_colab_link": true
    },
    "kernelspec": {
      "name": "python3",
      "display_name": "Python 3"
    },
    "accelerator": "GPU"
  },
  "cells": [
    {
      "cell_type": "markdown",
      "metadata": {
        "id": "view-in-github",
        "colab_type": "text"
      },
      "source": [
        "<a href=\"https://colab.research.google.com/github/Satyam-kumar-yadav/Snake_breed_pred/blob/main/Christmas.ipynb\" target=\"_parent\"><img src=\"https://colab.research.google.com/assets/colab-badge.svg\" alt=\"Open In Colab\"/></a>"
      ]
    },
    {
      "cell_type": "code",
      "metadata": {
        "colab": {
          "base_uri": "https://localhost:8080/"
        },
        "id": "LofS8aNmnfLV",
        "outputId": "eb6afc88-8571-4c1b-c52b-10e3eee4f2a2"
      },
      "source": [
        "from google.colab import drive\r\n",
        "drive.mount('/content/gdrive')"
      ],
      "execution_count": null,
      "outputs": [
        {
          "output_type": "stream",
          "text": [
            "Mounted at /content/gdrive\n"
          ],
          "name": "stdout"
        }
      ]
    },
    {
      "cell_type": "code",
      "metadata": {
        "id": "NoCPvI4InnX3"
      },
      "source": [
        "import cv2\r\n",
        "import glob\r\n",
        "import os\r\n",
        "import matplotlib.pyplot as plt\r\n",
        "from sklearn.model_selection import train_test_split\r\n",
        "import tensorflow as tf\r\n",
        "from tensorflow import keras\r\n",
        "from keras.models import Sequential\r\n",
        "from keras.applications.resnet50 import ResNet50\r\n",
        "from keras.layers import Conv2D,MaxPooling2D,GlobalAveragePooling2D,Dense,Flatten,Dropout,AvgPool2D,Input,Lambda,InputLayer\r\n",
        "from keras.applications import inception_v3"
      ],
      "execution_count": null,
      "outputs": []
    },
    {
      "cell_type": "code",
      "metadata": {
        "colab": {
          "base_uri": "https://localhost:8080/"
        },
        "id": "Nzen4Q-Xn_Vt",
        "outputId": "6766918b-1b8c-4f94-e2a4-f974aa958cb4"
      },
      "source": [
        "from tensorflow.python.keras.preprocessing.image import ImageDataGenerator\r\n",
        "image_size=360\r\n",
        "image_path='/content/gdrive/MyDrive/Quantanium/train_set'\r\n",
        "\r\n",
        "train_datagen=ImageDataGenerator(\r\n",
        "                        rescale=1./255,\r\n",
        "#                         validation_split=0.1,\r\n",
        "                        horizontal_flip=True,\r\n",
        "                        width_shift_range=0.2,\r\n",
        "                        # vertical_flip = True,\r\n",
        "                        # height_shift_range=0.2,\r\n",
        "                        # shear_range=0.2,\r\n",
        "                        rotation_range=40,\r\n",
        "                        fill_mode='nearest',\r\n",
        "                        # zoom_range = 0.2\r\n",
        "                        )\r\n",
        "\r\n",
        "train_generator=train_datagen.flow_from_directory(\r\n",
        "                        image_path, \r\n",
        "                        target_size=(image_size,image_size),\r\n",
        "                        subset='training',\r\n",
        "                        shuffle=True,\r\n",
        "                        batch_size=32,\r\n",
        "                        class_mode='categorical'\r\n",
        "                        )"
      ],
      "execution_count": null,
      "outputs": [
        {
          "output_type": "stream",
          "text": [
            "Found 6454 images belonging to 6 classes.\n"
          ],
          "name": "stdout"
        }
      ]
    },
    {
      "cell_type": "code",
      "metadata": {
        "colab": {
          "base_uri": "https://localhost:8080/"
        },
        "id": "M0r78DkVofdN",
        "outputId": "9180f651-b505-4633-fae1-2f1dc7dc62e1"
      },
      "source": [
        "valid_datagen=ImageDataGenerator(\r\n",
        "                        validation_split=0.1,\r\n",
        "                        rescale=1./255\r\n",
        "                        )\r\n",
        "\r\n",
        "valid_generator=valid_datagen.flow_from_directory(\r\n",
        "                        image_path, \r\n",
        "                        target_size=(image_size,image_size),\r\n",
        "                        subset='validation',\r\n",
        "                        shuffle=False,\r\n",
        "                        batch_size=32,\r\n",
        "                        class_mode='categorical'\r\n",
        "                        )"
      ],
      "execution_count": null,
      "outputs": [
        {
          "output_type": "stream",
          "text": [
            "Found 643 images belonging to 6 classes.\n"
          ],
          "name": "stdout"
        }
      ]
    },
    {
      "cell_type": "code",
      "metadata": {
        "id": "r-4bOL3_olZS"
      },
      "source": [
        "from keras.optimizers import *\r\n",
        "# Hyperparameters\r\n",
        "batch_size= 32\r\n",
        "epochs=50\r\n",
        "learn_rate=.001\r\n",
        "sgd=SGD(lr=learn_rate,momentum=.9,nesterov=False)\r\n",
        "adam=Adam(lr=learn_rate, beta_1=0.9, beta_2=0.999, epsilon=None,  amsgrad=False)"
      ],
      "execution_count": null,
      "outputs": []
    },
    {
      "cell_type": "code",
      "metadata": {
        "id": "Wsfcb7k4pHRI"
      },
      "source": [
        "labels = (train_generator.class_indices)\r\n",
        "labels = dict((v,k) for k,v in labels.items())"
      ],
      "execution_count": null,
      "outputs": []
    },
    {
      "cell_type": "code",
      "metadata": {
        "colab": {
          "base_uri": "https://localhost:8080/"
        },
        "id": "7oLbp8I3opN5",
        "outputId": "723f1b51-1071-4a0f-dad4-d22411a20ef8"
      },
      "source": [
        "from keras.applications.inception_resnet_v2 import InceptionResNetV2\r\n",
        "Inception = InceptionResNetV2(input_shape = (360,360,3), \r\n",
        "                                 include_top = False, \r\n",
        "                                 weights = 'imagenet')\r\n",
        "\r\n",
        "model=Sequential()\r\n",
        "model.add(Inception)\r\n",
        "model.add(GlobalAveragePooling2D())\r\n",
        "model.add(Flatten())\r\n",
        "model.add(Dense(1024,activation='relu'))\r\n",
        "model.add(Dense(1024,activation='relu'))\r\n",
        "model.add(Dropout(0.2))\r\n",
        "model.add(Dense(512,activation='relu'))\r\n",
        "model.add(Dropout(0.4))\r\n",
        "model.add(Dense(len(labels),activation='softmax'))\r\n",
        "model.compile(optimizer=sgd , \r\n",
        "             loss='categorical_crossentropy',\r\n",
        "             metrics=['accuracy']\r\n",
        "             )\r\n",
        "\r\n",
        "model.summary()"
      ],
      "execution_count": null,
      "outputs": [
        {
          "output_type": "stream",
          "text": [
            "Model: \"sequential_2\"\n",
            "_________________________________________________________________\n",
            "Layer (type)                 Output Shape              Param #   \n",
            "=================================================================\n",
            "inception_resnet_v2 (Functio (None, 9, 9, 1536)        54336736  \n",
            "_________________________________________________________________\n",
            "global_average_pooling2d_2 ( (None, 1536)              0         \n",
            "_________________________________________________________________\n",
            "flatten_2 (Flatten)          (None, 1536)              0         \n",
            "_________________________________________________________________\n",
            "dense_7 (Dense)              (None, 1024)              1573888   \n",
            "_________________________________________________________________\n",
            "dense_8 (Dense)              (None, 1024)              1049600   \n",
            "_________________________________________________________________\n",
            "dropout_4 (Dropout)          (None, 1024)              0         \n",
            "_________________________________________________________________\n",
            "dense_9 (Dense)              (None, 512)               524800    \n",
            "_________________________________________________________________\n",
            "dropout_5 (Dropout)          (None, 512)               0         \n",
            "_________________________________________________________________\n",
            "dense_10 (Dense)             (None, 6)                 3078      \n",
            "=================================================================\n",
            "Total params: 57,488,102\n",
            "Trainable params: 57,427,558\n",
            "Non-trainable params: 60,544\n",
            "_________________________________________________________________\n"
          ],
          "name": "stdout"
        }
      ]
    },
    {
      "cell_type": "code",
      "metadata": {
        "id": "X0n4GXyGo614"
      },
      "source": [
        "from keras.callbacks import EarlyStopping\r\n",
        "#Prepare call backs\r\n",
        "EarlyStop_callback = keras.callbacks.EarlyStopping(monitor='val_loss', patience=10, restore_best_weights=True)\r\n",
        "my_callback=[EarlyStop_callback]"
      ],
      "execution_count": null,
      "outputs": []
    },
    {
      "cell_type": "code",
      "metadata": {
        "colab": {
          "base_uri": "https://localhost:8080/"
        },
        "id": "ZtrJ0Ki_pMHr",
        "outputId": "9261635c-6964-427e-a576-c1115f2752ce"
      },
      "source": [
        "history=model.fit(train_generator,\r\n",
        "                   steps_per_epoch=10,\r\n",
        "                   epochs=1,\r\n",
        "                   validation_data=valid_generator,\r\n",
        "                   validation_steps=valid_generator.n // batch_size,\r\n",
        "                   callbacks=[my_callback])"
      ],
      "execution_count": null,
      "outputs": [
        {
          "output_type": "stream",
          "text": [
            "10/10 [==============================] - 51s 5s/step - loss: 0.0266 - accuracy: 0.9906 - val_loss: 0.0121 - val_accuracy: 0.9969\n"
          ],
          "name": "stdout"
        }
      ]
    },
    {
      "cell_type": "code",
      "metadata": {
        "colab": {
          "base_uri": "https://localhost:8080/",
          "height": 308
        },
        "id": "qiKYks8dpQWZ",
        "outputId": "825c2578-a262-4328-e6cb-6eb7714a8890"
      },
      "source": [
        "def plot_model(history):\r\n",
        "    fig,(ax1,ax2)=plt.subplots(1,2,figsize=(12,4))\r\n",
        "    fig.suptitle('Model Accuracy and Loss')\r\n",
        "\r\n",
        "    ax1.plot(history.history['accuracy'])\r\n",
        "    ax1.plot(history.history['val_accuracy'])\r\n",
        "    ax1.title.set_text('Accuracy')\r\n",
        "    ax1.set_ylabel('Accuracy')\r\n",
        "    ax1.set_xlabel('Epoch')\r\n",
        "    ax1.legend(['Train','Valid'],loc=4)\r\n",
        "\r\n",
        "    ax2.plot(history.history['loss'])\r\n",
        "    ax2.plot(history.history['val_loss'])\r\n",
        "    ax2.title.set_text('Loss')\r\n",
        "    ax2.set_ylabel('Loss')\r\n",
        "    ax2.set_xlabel('Epoch')\r\n",
        "    ax2.legend(['Train','Valid'],loc=1)\r\n",
        "\r\n",
        "    fig.show()\r\n",
        "\r\n",
        "plot_model(history)"
      ],
      "execution_count": null,
      "outputs": [
        {
          "output_type": "display_data",
          "data": {
            "image/png": "[encoded data removed]",
            "text/plain": [
              "<Figure size 864x288 with 2 Axes>"
            ]
          },
          "metadata": {
            "tags": [],
            "needs_background": "light"
          }
        }
      ]
    },
    {
      "cell_type": "code",
      "metadata": {
        "id": "Vsv-j33b4wFC"
      },
      "source": [
        "import pandas as pd"
      ],
      "execution_count": null,
      "outputs": []
    },
    {
      "cell_type": "code",
      "metadata": {
        "colab": {
          "base_uri": "https://localhost:8080/",
          "height": 195
        },
        "id": "gna_6_wDpVrl",
        "outputId": "69f283c9-09af-4006-ca6d-9c991df3c6cf"
      },
      "source": [
        "test_path = '/content/gdrive/MyDrive/Quantanium/dataset/test'\r\n",
        "sample_sub = pd.read_csv('/content/gdrive/MyDrive/hackerEarth/dataset/pred (1).csv')\r\n",
        "sample_sub.head(5)"
      ],
      "execution_count": null,
      "outputs": [
        {
          "output_type": "execute_result",
          "data": {
            "text/html": [
              "<div>\n",
              "<style scoped>\n",
              "    .dataframe tbody tr th:only-of-type {\n",
              "        vertical-align: middle;\n",
              "    }\n",
              "\n",
              "    .dataframe tbody tr th {\n",
              "        vertical-align: top;\n",
              "    }\n",
              "\n",
              "    .dataframe thead th {\n",
              "        text-align: right;\n",
              "    }\n",
              "</style>\n",
              "<table border=\"1\" class=\"dataframe\">\n",
              "  <thead>\n",
              "    <tr style=\"text-align: right;\">\n",
              "      <th></th>\n",
              "      <th>Image</th>\n",
              "      <th>Class</th>\n",
              "    </tr>\n",
              "  </thead>\n",
              "  <tbody>\n",
              "    <tr>\n",
              "      <th>0</th>\n",
              "      <td>image7761.jpg</td>\n",
              "      <td>Miscellaneous</td>\n",
              "    </tr>\n",
              "    <tr>\n",
              "      <th>1</th>\n",
              "      <td>image3202.jpg</td>\n",
              "      <td>Jacket</td>\n",
              "    </tr>\n",
              "    <tr>\n",
              "      <th>2</th>\n",
              "      <td>image688.jpg</td>\n",
              "      <td>Snowman</td>\n",
              "    </tr>\n",
              "    <tr>\n",
              "      <th>3</th>\n",
              "      <td>image233.jpg</td>\n",
              "      <td>Candle</td>\n",
              "    </tr>\n",
              "    <tr>\n",
              "      <th>4</th>\n",
              "      <td>image4332.jpg</td>\n",
              "      <td>Christmas_Tree</td>\n",
              "    </tr>\n",
              "  </tbody>\n",
              "</table>\n",
              "</div>"
            ],
            "text/plain": [
              "           Image           Class\n",
              "0  image7761.jpg   Miscellaneous\n",
              "1  image3202.jpg          Jacket\n",
              "2   image688.jpg         Snowman\n",
              "3   image233.jpg          Candle\n",
              "4  image4332.jpg  Christmas_Tree"
            ]
          },
          "metadata": {
            "tags": []
          },
          "execution_count": 25
        }
      ]
    },
    {
      "cell_type": "code",
      "metadata": {
        "colab": {
          "base_uri": "https://localhost:8080/"
        },
        "id": "6GMRUtJQR-_b",
        "outputId": "95aed555-88da-427f-f6a4-0c6ab9db73a1"
      },
      "source": [
        "sample_sub.drop('Class',axis = 1,inplace = True)\r\n",
        "test_generator = valid_datagen.flow_from_dataframe(\r\n",
        "    sample_sub, \r\n",
        "    test_path, \r\n",
        "    x_col='Image',\r\n",
        "    y_col=None,\r\n",
        "    target_size=(360,360),\r\n",
        "    color_mode=\"rgb\",\r\n",
        "    batch_size=32,\r\n",
        "    class_mode=None,\r\n",
        "    shuffle=False\r\n",
        ")"
      ],
      "execution_count": null,
      "outputs": [
        {
          "output_type": "stream",
          "text": [
            "Found 3489 validated image filenames.\n"
          ],
          "name": "stdout"
        }
      ]
    },
    {
      "cell_type": "code",
      "metadata": {
        "colab": {
          "base_uri": "https://localhost:8080/",
          "height": 402
        },
        "id": "9nC_JOfT42Qi",
        "outputId": "f8260a3a-0d29-4946-8975-87aff041173a"
      },
      "source": [
        "sample_sub"
      ],
      "execution_count": null,
      "outputs": [
        {
          "output_type": "execute_result",
          "data": {
            "text/html": [
              "<div>\n",
              "<style scoped>\n",
              "    .dataframe tbody tr th:only-of-type {\n",
              "        vertical-align: middle;\n",
              "    }\n",
              "\n",
              "    .dataframe tbody tr th {\n",
              "        vertical-align: top;\n",
              "    }\n",
              "\n",
              "    .dataframe thead th {\n",
              "        text-align: right;\n",
              "    }\n",
              "</style>\n",
              "<table border=\"1\" class=\"dataframe\">\n",
              "  <thead>\n",
              "    <tr style=\"text-align: right;\">\n",
              "      <th></th>\n",
              "      <th>Image</th>\n",
              "    </tr>\n",
              "  </thead>\n",
              "  <tbody>\n",
              "    <tr>\n",
              "      <th>0</th>\n",
              "      <td>image7761.jpg</td>\n",
              "    </tr>\n",
              "    <tr>\n",
              "      <th>1</th>\n",
              "      <td>image3202.jpg</td>\n",
              "    </tr>\n",
              "    <tr>\n",
              "      <th>2</th>\n",
              "      <td>image688.jpg</td>\n",
              "    </tr>\n",
              "    <tr>\n",
              "      <th>3</th>\n",
              "      <td>image233.jpg</td>\n",
              "    </tr>\n",
              "    <tr>\n",
              "      <th>4</th>\n",
              "      <td>image4332.jpg</td>\n",
              "    </tr>\n",
              "    <tr>\n",
              "      <th>...</th>\n",
              "      <td>...</td>\n",
              "    </tr>\n",
              "    <tr>\n",
              "      <th>3484</th>\n",
              "      <td>image9258.jpg</td>\n",
              "    </tr>\n",
              "    <tr>\n",
              "      <th>3485</th>\n",
              "      <td>image4373.jpg</td>\n",
              "    </tr>\n",
              "    <tr>\n",
              "      <th>3486</th>\n",
              "      <td>image3971.jpg</td>\n",
              "    </tr>\n",
              "    <tr>\n",
              "      <th>3487</th>\n",
              "      <td>image6152.jpg</td>\n",
              "    </tr>\n",
              "    <tr>\n",
              "      <th>3488</th>\n",
              "      <td>image7322.jpg</td>\n",
              "    </tr>\n",
              "  </tbody>\n",
              "</table>\n",
              "<p>3489 rows × 1 columns</p>\n",
              "</div>"
            ],
            "text/plain": [
              "              Image\n",
              "0     image7761.jpg\n",
              "1     image3202.jpg\n",
              "2      image688.jpg\n",
              "3      image233.jpg\n",
              "4     image4332.jpg\n",
              "...             ...\n",
              "3484  image9258.jpg\n",
              "3485  image4373.jpg\n",
              "3486  image3971.jpg\n",
              "3487  image6152.jpg\n",
              "3488  image7322.jpg\n",
              "\n",
              "[3489 rows x 1 columns]"
            ]
          },
          "metadata": {
            "tags": []
          },
          "execution_count": 27
        }
      ]
    },
    {
      "cell_type": "code",
      "metadata": {
        "colab": {
          "base_uri": "https://localhost:8080/"
        },
        "id": "XxskRrk8TdND",
        "outputId": "c76618cc-17cd-47e1-99da-4a5c99991a4e"
      },
      "source": [
        "prediction=model.predict(test_generator,verbose=1)\r\n",
        "prediction.shape"
      ],
      "execution_count": null,
      "outputs": [
        {
          "output_type": "stream",
          "text": [
            "110/110 [==============================] - 1211s 11s/step\n"
          ],
          "name": "stdout"
        },
        {
          "output_type": "execute_result",
          "data": {
            "text/plain": [
              "(3489, 6)"
            ]
          },
          "metadata": {
            "tags": []
          },
          "execution_count": 30
        }
      ]
    },
    {
      "cell_type": "code",
      "metadata": {
        "id": "DK7r51S-7VjL"
      },
      "source": [
        "import numpy as np"
      ],
      "execution_count": null,
      "outputs": []
    },
    {
      "cell_type": "code",
      "metadata": {
        "colab": {
          "base_uri": "https://localhost:8080/",
          "height": 431
        },
        "id": "0N2sWSDOTlO2",
        "outputId": "47498aab-b368-49da-a4be-900ef72f86a9"
      },
      "source": [
        "sample_sub['category'] = np.argmax(prediction, axis=-1)\r\n",
        "sample_sub.loc[:,'Class'] = sample_sub.category.map(labels)\r\n",
        "sample_sub.drop('category',axis=1,inplace=True)\r\n",
        "sample_sub.set_index('Image',inplace = True)\r\n",
        "sample_sub"
      ],
      "execution_count": null,
      "outputs": [
        {
          "output_type": "execute_result",
          "data": {
            "text/html": [
              "<div>\n",
              "<style scoped>\n",
              "    .dataframe tbody tr th:only-of-type {\n",
              "        vertical-align: middle;\n",
              "    }\n",
              "\n",
              "    .dataframe tbody tr th {\n",
              "        vertical-align: top;\n",
              "    }\n",
              "\n",
              "    .dataframe thead th {\n",
              "        text-align: right;\n",
              "    }\n",
              "</style>\n",
              "<table border=\"1\" class=\"dataframe\">\n",
              "  <thead>\n",
              "    <tr style=\"text-align: right;\">\n",
              "      <th></th>\n",
              "      <th>Class</th>\n",
              "    </tr>\n",
              "    <tr>\n",
              "      <th>Image</th>\n",
              "      <th></th>\n",
              "    </tr>\n",
              "  </thead>\n",
              "  <tbody>\n",
              "    <tr>\n",
              "      <th>image7761.jpg</th>\n",
              "      <td>Miscellaneous</td>\n",
              "    </tr>\n",
              "    <tr>\n",
              "      <th>image3202.jpg</th>\n",
              "      <td>Miscellaneous</td>\n",
              "    </tr>\n",
              "    <tr>\n",
              "      <th>image688.jpg</th>\n",
              "      <td>Snowman</td>\n",
              "    </tr>\n",
              "    <tr>\n",
              "      <th>image233.jpg</th>\n",
              "      <td>Candle</td>\n",
              "    </tr>\n",
              "    <tr>\n",
              "      <th>image4332.jpg</th>\n",
              "      <td>Christmas_Tree</td>\n",
              "    </tr>\n",
              "    <tr>\n",
              "      <th>...</th>\n",
              "      <td>...</td>\n",
              "    </tr>\n",
              "    <tr>\n",
              "      <th>image9258.jpg</th>\n",
              "      <td>Miscellaneous</td>\n",
              "    </tr>\n",
              "    <tr>\n",
              "      <th>image4373.jpg</th>\n",
              "      <td>Miscellaneous</td>\n",
              "    </tr>\n",
              "    <tr>\n",
              "      <th>image3971.jpg</th>\n",
              "      <td>Miscellaneous</td>\n",
              "    </tr>\n",
              "    <tr>\n",
              "      <th>image6152.jpg</th>\n",
              "      <td>Miscellaneous</td>\n",
              "    </tr>\n",
              "    <tr>\n",
              "      <th>image7322.jpg</th>\n",
              "      <td>Christmas_Tree</td>\n",
              "    </tr>\n",
              "  </tbody>\n",
              "</table>\n",
              "<p>3489 rows × 1 columns</p>\n",
              "</div>"
            ],
            "text/plain": [
              "                        Class\n",
              "Image                        \n",
              "image7761.jpg   Miscellaneous\n",
              "image3202.jpg   Miscellaneous\n",
              "image688.jpg          Snowman\n",
              "image233.jpg           Candle\n",
              "image4332.jpg  Christmas_Tree\n",
              "...                       ...\n",
              "image9258.jpg   Miscellaneous\n",
              "image4373.jpg   Miscellaneous\n",
              "image3971.jpg   Miscellaneous\n",
              "image6152.jpg   Miscellaneous\n",
              "image7322.jpg  Christmas_Tree\n",
              "\n",
              "[3489 rows x 1 columns]"
            ]
          },
          "metadata": {
            "tags": []
          },
          "execution_count": 32
        }
      ]
    },
    {
      "cell_type": "code",
      "metadata": {
        "id": "V_swiBbzTvng"
      },
      "source": [
        "sample_sub.to_csv('1stPosition.csv')"
      ],
      "execution_count": null,
      "outputs": []
    },
    {
      "cell_type": "code",
      "metadata": {
        "id": "bPE_5-hH4AAV"
      },
      "source": [
        ""
      ],
      "execution_count": null,
      "outputs": []
    }
  ]
}